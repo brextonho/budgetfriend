{
 "cells": [
  {
   "cell_type": "code",
   "execution_count": 4,
   "metadata": {},
   "outputs": [],
   "source": [
    "import pandas as pd\n",
    "import plotly.express as px\n",
    "from datetime import datetime\n",
    "\n",
    "def process_csv(filepath):\n",
    "    # Read the CSV file\n",
    "    df = pd.read_csv(filepath)\n",
    "    # Process the data as needed\n",
    "    return df"
   ]
  },
  {
   "cell_type": "code",
   "execution_count": 5,
   "metadata": {},
   "outputs": [
    {
     "data": {
      "text/html": [
       "<div>\n",
       "<style scoped>\n",
       "    .dataframe tbody tr th:only-of-type {\n",
       "        vertical-align: middle;\n",
       "    }\n",
       "\n",
       "    .dataframe tbody tr th {\n",
       "        vertical-align: top;\n",
       "    }\n",
       "\n",
       "    .dataframe thead th {\n",
       "        text-align: right;\n",
       "    }\n",
       "</style>\n",
       "<table border=\"1\" class=\"dataframe\">\n",
       "  <thead>\n",
       "    <tr style=\"text-align: right;\">\n",
       "      <th></th>\n",
       "      <th>Date</th>\n",
       "      <th>Category</th>\n",
       "      <th>Amount</th>\n",
       "    </tr>\n",
       "  </thead>\n",
       "  <tbody>\n",
       "    <tr>\n",
       "      <th>0</th>\n",
       "      <td>2019-01-01</td>\n",
       "      <td>Transportation</td>\n",
       "      <td>84.04</td>\n",
       "    </tr>\n",
       "    <tr>\n",
       "      <th>1</th>\n",
       "      <td>2019-01-02</td>\n",
       "      <td>Entertainment</td>\n",
       "      <td>97.82</td>\n",
       "    </tr>\n",
       "    <tr>\n",
       "      <th>2</th>\n",
       "      <td>2019-01-03</td>\n",
       "      <td>Entertainment</td>\n",
       "      <td>63.70</td>\n",
       "    </tr>\n",
       "    <tr>\n",
       "      <th>3</th>\n",
       "      <td>2019-01-04</td>\n",
       "      <td>Dining Out</td>\n",
       "      <td>90.04</td>\n",
       "    </tr>\n",
       "    <tr>\n",
       "      <th>4</th>\n",
       "      <td>2019-01-05</td>\n",
       "      <td>Transportation</td>\n",
       "      <td>124.11</td>\n",
       "    </tr>\n",
       "    <tr>\n",
       "      <th>...</th>\n",
       "      <td>...</td>\n",
       "      <td>...</td>\n",
       "      <td>...</td>\n",
       "    </tr>\n",
       "    <tr>\n",
       "      <th>1821</th>\n",
       "      <td>2023-12-27</td>\n",
       "      <td>Entertainment</td>\n",
       "      <td>164.03</td>\n",
       "    </tr>\n",
       "    <tr>\n",
       "      <th>1822</th>\n",
       "      <td>2023-12-28</td>\n",
       "      <td>Dining Out</td>\n",
       "      <td>153.23</td>\n",
       "    </tr>\n",
       "    <tr>\n",
       "      <th>1823</th>\n",
       "      <td>2023-12-29</td>\n",
       "      <td>Groceries</td>\n",
       "      <td>84.57</td>\n",
       "    </tr>\n",
       "    <tr>\n",
       "      <th>1824</th>\n",
       "      <td>2023-12-30</td>\n",
       "      <td>Entertainment</td>\n",
       "      <td>106.17</td>\n",
       "    </tr>\n",
       "    <tr>\n",
       "      <th>1825</th>\n",
       "      <td>2023-12-31</td>\n",
       "      <td>Transportation</td>\n",
       "      <td>187.90</td>\n",
       "    </tr>\n",
       "  </tbody>\n",
       "</table>\n",
       "<p>1826 rows × 3 columns</p>\n",
       "</div>"
      ],
      "text/plain": [
       "           Date        Category  Amount\n",
       "0    2019-01-01  Transportation   84.04\n",
       "1    2019-01-02   Entertainment   97.82\n",
       "2    2019-01-03   Entertainment   63.70\n",
       "3    2019-01-04      Dining Out   90.04\n",
       "4    2019-01-05  Transportation  124.11\n",
       "...         ...             ...     ...\n",
       "1821 2023-12-27   Entertainment  164.03\n",
       "1822 2023-12-28      Dining Out  153.23\n",
       "1823 2023-12-29       Groceries   84.57\n",
       "1824 2023-12-30   Entertainment  106.17\n",
       "1825 2023-12-31  Transportation  187.90\n",
       "\n",
       "[1826 rows x 3 columns]"
      ]
     },
     "execution_count": 5,
     "metadata": {},
     "output_type": "execute_result"
    }
   ],
   "source": [
    "main_df = process_csv('5_years_financial_data.csv')\n",
    "main_df['Date'] = pd.to_datetime(main_df['Date'], format=\"%d/%m/%Y\")\n",
    "main_df"
   ]
  },
  {
   "cell_type": "code",
   "execution_count": 6,
   "metadata": {},
   "outputs": [
    {
     "data": {
      "text/plain": [
       "Date        datetime64[ns]\n",
       "Category            object\n",
       "Amount             float64\n",
       "dtype: object"
      ]
     },
     "execution_count": 6,
     "metadata": {},
     "output_type": "execute_result"
    }
   ],
   "source": [
    "main_df.dtypes"
   ]
  },
  {
   "cell_type": "markdown",
   "metadata": {},
   "source": [
    "### Utility functions"
   ]
  },
  {
   "cell_type": "code",
   "execution_count": 7,
   "metadata": {},
   "outputs": [],
   "source": [
    "# input year as int\n",
    "def filter_by_year(df, year):\n",
    "    \"\"\"\n",
    "    Filter a DataFrame by a given year, returning a new DataFrame\n",
    "    with rows only from that year.\n",
    "\n",
    "    Parameters:\n",
    "    - df: A pandas DataFrame with a 'Date' column in datetime format.\n",
    "    - year: An integer representing the year to filter by.\n",
    "\n",
    "    Returns:\n",
    "    - A pandas DataFrame with rows from the specified year.\n",
    "    \"\"\"\n",
    "\n",
    "    # Filter the DataFrame for the given year\n",
    "    filtered_df = df[df['Date'].dt.year == year]\n",
    "    \n",
    "    return filtered_df\n",
    "\n",
    "# input month as int\n",
    "def filter_by_month(df, month):\n",
    "    \"\"\"\n",
    "    Filter a DataFrame by a given month name, returning a new DataFrame\n",
    "    with rows only from that month.\n",
    "\n",
    "    Parameters:\n",
    "    - df: A pandas DataFrame with a 'Date' column in datetime format.\n",
    "    - month: Integer representing the month to filter by, e.g., 2 for February\n",
    "\n",
    "    Returns:\n",
    "    - A pandas DataFrame with rows from the specified month.\n",
    "    \"\"\"\n",
    "    # TODO this in javascript instead for input\n",
    "    # Create a dictionary to map month names to month numbers\n",
    "    # month_to_num = {\n",
    "    #     'January': 1,\n",
    "    #     'February': 2,\n",
    "    #     'March': 3,\n",
    "    #     'April': 4,\n",
    "    #     'May': 5,\n",
    "    #     'June': 6,\n",
    "    #     'July': 7,\n",
    "    #     'August': 8,\n",
    "    #     'September': 9,\n",
    "    #     'October': 10,\n",
    "    #     'November': 11,\n",
    "    #     'December': 12\n",
    "    # }\n",
    "    \n",
    "    # Get the month number for the given month name\n",
    "    # month_num = month_to_num.get(month.capitalize())\n",
    "    months = [1,2,3,4,5,6,7,8,9,10,11,12]\n",
    "\n",
    "\n",
    "    if month not in months:\n",
    "        raise ValueError(f\"Invalid month name: {month}\")\n",
    "    \n",
    "    # Filter the DataFrame for the given month number\n",
    "    filtered_df = df[df['Date'].dt.month == month]\n",
    "    \n",
    "    return filtered_df\n",
    "\n",
    "\n",
    "\n",
    "\n"
   ]
  },
  {
   "cell_type": "code",
   "execution_count": 8,
   "metadata": {},
   "outputs": [],
   "source": [
    "\n",
    "def sum_expenditure_by_month(df):\n",
    "    \"\"\"\n",
    "    Sum the expenditure by month, with the month and year formatted as 'January 2019', etc.\n",
    "\n",
    "    Parameters:\n",
    "    - df: pandas DataFrame with a 'Date' and 'Amount' column.\n",
    "\n",
    "    Returns:\n",
    "    - A new DataFrame with 'Month' and 'Total Expenditure' columns.\n",
    "    \"\"\"\n",
    "    \n",
    "    # Group by year and month, and sum the amounts\n",
    "    df_grouped = df.groupby(df['Date'].dt.to_period(\"M\"))['Amount'].sum().reset_index()\n",
    "\n",
    "    # Convert the 'Date' periods back to timestamp to format them\n",
    "    df_grouped['Date'] = df_grouped['Date'].dt.to_timestamp()\n",
    "\n",
    "    # Format the 'Date' column as 'Month Year'\n",
    "    df_grouped['Month'] = df_grouped['Date'].dt.strftime('%B %Y')\n",
    "\n",
    "    # Rename columns and select only the needed ones\n",
    "    result_df = df_grouped[['Month', 'Amount']].rename(columns={'Amount': 'Total Expenditure'})\n",
    "\n",
    "    return result_df\n"
   ]
  },
  {
   "cell_type": "code",
   "execution_count": 9,
   "metadata": {},
   "outputs": [],
   "source": [
    "def aggregate_spending_by_category(df):\n",
    "    \"\"\"\n",
    "    Aggregate spending by category for each month.\n",
    "\n",
    "    Parameters:\n",
    "    - df: pandas DataFrame with columns 'Date', 'Category', and 'Amount'.\n",
    "\n",
    "    Returns:\n",
    "    - A new DataFrame with months as rows, categories as columns, and the sum of expenditures as values.\n",
    "    \"\"\"\n",
    "\n",
    "    # Extract year and month from 'Date' and create a new column for it\n",
    "    df['YearMonth'] = df['Date'].dt.to_period('M')\n",
    "    \n",
    "    # Group by the new 'YearMonth' column and 'Category', and sum 'Amount'\n",
    "    result_df = df.groupby(['YearMonth', 'Category'])['Amount'].sum().unstack(fill_value=0)\n",
    "\n",
    "    # Reset the index to make 'YearMonth' a column again\n",
    "    result_df.reset_index(inplace=True)\n",
    "    \n",
    "    # Optionally format 'YearMonth' to 'Month Year' for better readability\n",
    "    result_df['YearMonth'] = result_df['YearMonth'].dt.strftime('%B %Y')\n",
    "\n",
    "    return result_df\n",
    "\n",
    "# Example usage\n",
    "# Assuming 'df' is your DataFrame loaded with the appropriate data\n",
    "# summed_df = aggregate_spending_by_category(df)\n",
    "# print(summed_df)\n"
   ]
  },
  {
   "cell_type": "code",
   "execution_count": 10,
   "metadata": {},
   "outputs": [],
   "source": [
    "def aggregate_spending_by_category_long_form(df):\n",
    "    \"\"\"\n",
    "    Aggregate spending by category for each month in a long form.\n",
    "\n",
    "    Parameters:\n",
    "    - df: pandas DataFrame with columns 'Date', 'Category', and 'Amount'.\n",
    "\n",
    "    Returns:\n",
    "    - A new DataFrame in long form with 'YearMonth', 'Category', and 'Amount'.\n",
    "    \"\"\"\n",
    "    \n",
    "    # Extract year and month from 'Date' and create a new column for it\n",
    "    df['YearMonth'] = df['Date'].dt.to_period('M')\n",
    "    \n",
    "    # Group by the new 'YearMonth' column and 'Category', and sum 'Amount'\n",
    "    result_df = df.groupby(['YearMonth', 'Category'])['Amount'].sum().reset_index()\n",
    "    \n",
    "    # Optionally format 'YearMonth' to 'Month Year' for better readability\n",
    "    result_df['YearMonth'] = result_df['YearMonth'].dt.strftime('%B %Y')\n",
    "\n",
    "    return result_df"
   ]
  },
  {
   "cell_type": "markdown",
   "metadata": {},
   "source": [
    "### Charts test"
   ]
  },
  {
   "cell_type": "markdown",
   "metadata": {},
   "source": [
    "1. pie chart: by this month, this year, select year?, (week is harder to implement, TODO later),, maybe not pie chart...\n",
    "2. bar chart: breakdown 6 categories by this month, this year, select year?, (week is harder to implement, TODO later)\n",
    "3. line chart: total expenses over time by month"
   ]
  },
  {
   "cell_type": "code",
   "execution_count": 11,
   "metadata": {},
   "outputs": [
    {
     "data": {
      "text/plain": [
       "array([2019, 2020, 2021, 2022, 2023])"
      ]
     },
     "execution_count": 11,
     "metadata": {},
     "output_type": "execute_result"
    }
   ],
   "source": [
    "# list of available years\n",
    "unique_years = main_df['Date'].dt.year.unique()\n",
    "unique_years"
   ]
  },
  {
   "cell_type": "markdown",
   "metadata": {},
   "source": [
    "#### pie charts (discontinued)"
   ]
  },
  {
   "cell_type": "code",
   "execution_count": null,
   "metadata": {},
   "outputs": [],
   "source": [
    "# TODO check if this is aggregated , summed up\n",
    "# pie_df = filter_by_year(main_df, 2019)\n",
    "\n",
    "# fig = px.pie(pie_df, values='Amount', names='Category', title='Expenditure breakdown in 2019') # make this an input, year or month\n",
    "# fig.show()"
   ]
  },
  {
   "cell_type": "code",
   "execution_count": 8,
   "metadata": {},
   "outputs": [],
   "source": [
    "# filter by year then month\n",
    "\n"
   ]
  },
  {
   "cell_type": "markdown",
   "metadata": {},
   "source": [
    "#### bar charts"
   ]
  },
  {
   "cell_type": "code",
   "execution_count": 14,
   "metadata": {},
   "outputs": [],
   "source": [
    "# to test\n",
    "def barchart(df):\n",
    "    \"\"\"\n",
    "    Aggregate spending by category for each month in a long form suitable for creating datasets\n",
    "    for a stacked bar chart in Chart.js, ensuring chronological order of months.\n",
    "\n",
    "    Parameters:\n",
    "    - df: pandas DataFrame with columns 'Date', 'Category', and 'Amount'.\n",
    "\n",
    "    Returns:\n",
    "    - JSON object with 'labels' and 'datasets' suitable for Chart.js.\n",
    "    \"\"\"\n",
    "\n",
    "    # Extract year and month from 'Date' and create a new column for it, converting to period\n",
    "    df['YearMonth'] = df['Date'].dt.to_period('M')\n",
    "    \n",
    "    # Group by the new 'YearMonth' column and 'Category', and sum 'Amount'\n",
    "    result_df = df.groupby(['YearMonth', 'Category'])['Amount'].sum().unstack(fill_value=0).reset_index()\n",
    "\n",
    "    # Sort the DataFrame by the datetime period (implicitly does it chronologically)\n",
    "    result_df['YearMonth'] = result_df['YearMonth'].dt.to_timestamp()  # Convert to timestamp for sorting\n",
    "    result_df.sort_values('YearMonth', inplace=True)\n",
    "    result_df['YearMonth'] = result_df['YearMonth'].dt.strftime('%B %Y')  # Convert back to string for display\n",
    "\n",
    "    # Convert the DataFrame to a dictionary that fits the structure needed for Chart.js\n",
    "    datasets = []\n",
    "    colors = {\n",
    "        'Dining Out':'#DE3163',\n",
    "        'Utilities':'#808080',\n",
    "        'Transportation':'#0047AB',\n",
    "        'Groceries':'#CC5500',\n",
    "        'Entertainment':'#C3B1E1',\n",
    "        'Health':'#008000',\n",
    "    }\n",
    "    categories = result_df.columns[1:]  # Skip the 'YearMonth' column\n",
    "\n",
    "    for category in categories:\n",
    "        datasets.append({\n",
    "            'label': category,\n",
    "            'data': result_df[category].tolist(),\n",
    "            'backgroundColor': colors[category]\n",
    "        })\n",
    "\n",
    "    return {\n",
    "        'labels': result_df['YearMonth'].tolist(),\n",
    "        'datasets': datasets\n",
    "    }\n"
   ]
  },
  {
   "cell_type": "code",
   "execution_count": 15,
   "metadata": {},
   "outputs": [
    {
     "data": {
      "text/plain": [
       "{'labels': ['January 2019',\n",
       "  'February 2019',\n",
       "  'March 2019',\n",
       "  'April 2019',\n",
       "  'May 2019',\n",
       "  'June 2019',\n",
       "  'July 2019',\n",
       "  'August 2019',\n",
       "  'September 2019',\n",
       "  'October 2019',\n",
       "  'November 2019',\n",
       "  'December 2019',\n",
       "  'January 2020',\n",
       "  'February 2020',\n",
       "  'March 2020',\n",
       "  'April 2020',\n",
       "  'May 2020',\n",
       "  'June 2020',\n",
       "  'July 2020',\n",
       "  'August 2020',\n",
       "  'September 2020',\n",
       "  'October 2020',\n",
       "  'November 2020',\n",
       "  'December 2020',\n",
       "  'January 2021',\n",
       "  'February 2021',\n",
       "  'March 2021',\n",
       "  'April 2021',\n",
       "  'May 2021',\n",
       "  'June 2021',\n",
       "  'July 2021',\n",
       "  'August 2021',\n",
       "  'September 2021',\n",
       "  'October 2021',\n",
       "  'November 2021',\n",
       "  'December 2021',\n",
       "  'January 2022',\n",
       "  'February 2022',\n",
       "  'March 2022',\n",
       "  'April 2022',\n",
       "  'May 2022',\n",
       "  'June 2022',\n",
       "  'July 2022',\n",
       "  'August 2022',\n",
       "  'September 2022',\n",
       "  'October 2022',\n",
       "  'November 2022',\n",
       "  'December 2022',\n",
       "  'January 2023',\n",
       "  'February 2023',\n",
       "  'March 2023',\n",
       "  'April 2023',\n",
       "  'May 2023',\n",
       "  'June 2023',\n",
       "  'July 2023',\n",
       "  'August 2023',\n",
       "  'September 2023',\n",
       "  'October 2023',\n",
       "  'November 2023',\n",
       "  'December 2023'],\n",
       " 'datasets': [{'label': 'Dining Out',\n",
       "   'data': [732.17,\n",
       "    725.7,\n",
       "    1010.58,\n",
       "    418.41999999999996,\n",
       "    809.61,\n",
       "    702.19,\n",
       "    105.27,\n",
       "    389.62,\n",
       "    257.06,\n",
       "    1082.31,\n",
       "    121.69,\n",
       "    1019.43,\n",
       "    364.85,\n",
       "    287.39,\n",
       "    243.88,\n",
       "    244.44,\n",
       "    645.8100000000001,\n",
       "    573.7,\n",
       "    366.87,\n",
       "    460.73,\n",
       "    720.3199999999999,\n",
       "    763.9300000000001,\n",
       "    207.55,\n",
       "    354.05,\n",
       "    527.07,\n",
       "    135.5,\n",
       "    1132.3899999999999,\n",
       "    231.41,\n",
       "    986.87,\n",
       "    616.01,\n",
       "    620.1,\n",
       "    675.18,\n",
       "    957.99,\n",
       "    598.65,\n",
       "    789.54,\n",
       "    279.32,\n",
       "    480.66,\n",
       "    632.49,\n",
       "    722.1800000000001,\n",
       "    1028.99,\n",
       "    453.99,\n",
       "    406.11,\n",
       "    380.3,\n",
       "    1013.9499999999999,\n",
       "    583.46,\n",
       "    742.55,\n",
       "    276.07,\n",
       "    425.16999999999996,\n",
       "    458.93,\n",
       "    133.53,\n",
       "    139.78,\n",
       "    554.47,\n",
       "    793.12,\n",
       "    503.99,\n",
       "    842.78,\n",
       "    603.41,\n",
       "    329.05,\n",
       "    628.91,\n",
       "    325.14,\n",
       "    791.23],\n",
       "   'backgroundColor': '#DE3163'},\n",
       "  {'label': 'Entertainment',\n",
       "   'data': [688.52,\n",
       "    559.07,\n",
       "    600.2,\n",
       "    708.13,\n",
       "    782.05,\n",
       "    640.69,\n",
       "    653.97,\n",
       "    225.14,\n",
       "    440.88,\n",
       "    343.68,\n",
       "    531.85,\n",
       "    528.49,\n",
       "    466.8,\n",
       "    244.35,\n",
       "    602.63,\n",
       "    765.46,\n",
       "    529.8299999999999,\n",
       "    591.9,\n",
       "    574.5799999999999,\n",
       "    612.84,\n",
       "    312.39,\n",
       "    1092.13,\n",
       "    856.59,\n",
       "    511.72,\n",
       "    1133.43,\n",
       "    0.0,\n",
       "    476.26,\n",
       "    390.52,\n",
       "    114.75,\n",
       "    270.52,\n",
       "    91.17,\n",
       "    240.74,\n",
       "    448.67999999999995,\n",
       "    379.56,\n",
       "    311.49,\n",
       "    379.35,\n",
       "    550.34,\n",
       "    530.83,\n",
       "    954.49,\n",
       "    473.38,\n",
       "    503.94,\n",
       "    433.04,\n",
       "    456.0,\n",
       "    437.44,\n",
       "    317.19,\n",
       "    167.49,\n",
       "    739.16,\n",
       "    132.14,\n",
       "    843.79,\n",
       "    89.01,\n",
       "    669.0500000000001,\n",
       "    296.9,\n",
       "    1127.79,\n",
       "    462.39,\n",
       "    35.8,\n",
       "    706.75,\n",
       "    661.69,\n",
       "    710.57,\n",
       "    227.56,\n",
       "    582.84],\n",
       "   'backgroundColor': '#C3B1E1'},\n",
       "  {'label': 'Groceries',\n",
       "   'data': [131.16,\n",
       "    220.4,\n",
       "    498.78,\n",
       "    1003.0600000000001,\n",
       "    256.94,\n",
       "    427.16,\n",
       "    510.9,\n",
       "    681.79,\n",
       "    626.2,\n",
       "    503.63,\n",
       "    557.72,\n",
       "    433.72,\n",
       "    509.49,\n",
       "    534.4100000000001,\n",
       "    613.54,\n",
       "    182.16,\n",
       "    638.71,\n",
       "    336.97,\n",
       "    538.45,\n",
       "    379.95,\n",
       "    856.22,\n",
       "    88.42,\n",
       "    575.86,\n",
       "    333.73,\n",
       "    234.81,\n",
       "    725.63,\n",
       "    698.84,\n",
       "    821.4300000000001,\n",
       "    807.69,\n",
       "    433.67,\n",
       "    597.17,\n",
       "    728.52,\n",
       "    480.95,\n",
       "    606.65,\n",
       "    62.31,\n",
       "    899.49,\n",
       "    343.34000000000003,\n",
       "    284.91,\n",
       "    205.49,\n",
       "    314.15,\n",
       "    539.03,\n",
       "    747.3699999999999,\n",
       "    644.28,\n",
       "    101.41,\n",
       "    696.59,\n",
       "    636.47,\n",
       "    637.89,\n",
       "    476.59000000000003,\n",
       "    784.72,\n",
       "    805.92,\n",
       "    539.25,\n",
       "    827.89,\n",
       "    394.53,\n",
       "    1134.88,\n",
       "    1045.38,\n",
       "    551.02,\n",
       "    785.3199999999999,\n",
       "    577.81,\n",
       "    964.3299999999999,\n",
       "    390.44],\n",
       "   'backgroundColor': '#CC5500'},\n",
       "  {'label': 'Health',\n",
       "   'data': [82.77000000000001,\n",
       "    359.78999999999996,\n",
       "    281.03000000000003,\n",
       "    453.4,\n",
       "    662.98,\n",
       "    208.14000000000001,\n",
       "    914.07,\n",
       "    1130.88,\n",
       "    706.22,\n",
       "    409.86,\n",
       "    280.24,\n",
       "    646.84,\n",
       "    725.2,\n",
       "    882.02,\n",
       "    675.55,\n",
       "    592.1,\n",
       "    530.24,\n",
       "    1281.34,\n",
       "    481.02,\n",
       "    671.85,\n",
       "    726.11,\n",
       "    717.4100000000001,\n",
       "    233.61,\n",
       "    541.73,\n",
       "    175.26,\n",
       "    219.08,\n",
       "    472.63,\n",
       "    456.91,\n",
       "    300.73,\n",
       "    437.89,\n",
       "    452.84000000000003,\n",
       "    1215.78,\n",
       "    467.22,\n",
       "    446.5,\n",
       "    801.21,\n",
       "    447.75,\n",
       "    722.83,\n",
       "    261.65999999999997,\n",
       "    1147.06,\n",
       "    797.3,\n",
       "    864.82,\n",
       "    410.87,\n",
       "    1342.3,\n",
       "    501.74,\n",
       "    964.3199999999999,\n",
       "    412.21,\n",
       "    495.43000000000006,\n",
       "    803.89,\n",
       "    453.53,\n",
       "    833.14,\n",
       "    1376.7,\n",
       "    88.19,\n",
       "    200.23999999999998,\n",
       "    276.72,\n",
       "    369.03,\n",
       "    295.08,\n",
       "    517.28,\n",
       "    549.2,\n",
       "    405.16,\n",
       "    635.37],\n",
       "   'backgroundColor': '#008000'},\n",
       "  {'label': 'Transportation',\n",
       "   'data': [487.84000000000003,\n",
       "    723.61,\n",
       "    489.56,\n",
       "    325.53999999999996,\n",
       "    450.85,\n",
       "    293.21999999999997,\n",
       "    967.4399999999999,\n",
       "    401.76,\n",
       "    342.11,\n",
       "    557.5,\n",
       "    957.1999999999999,\n",
       "    193.15,\n",
       "    233.45000000000002,\n",
       "    844.65,\n",
       "    429.19,\n",
       "    542.56,\n",
       "    298.6,\n",
       "    331.15999999999997,\n",
       "    1247.03,\n",
       "    783.92,\n",
       "    239.40999999999997,\n",
       "    503.57,\n",
       "    1050.78,\n",
       "    1163.53,\n",
       "    827.47,\n",
       "    656.5699999999999,\n",
       "    736.01,\n",
       "    266.97,\n",
       "    727.88,\n",
       "    941.98,\n",
       "    1347.55,\n",
       "    524.97,\n",
       "    551.04,\n",
       "    473.36,\n",
       "    288.78999999999996,\n",
       "    827.15,\n",
       "    348.18,\n",
       "    216.57999999999998,\n",
       "    502.99,\n",
       "    222.51,\n",
       "    1048.83,\n",
       "    727.9200000000001,\n",
       "    135.17,\n",
       "    526.53,\n",
       "    361.47,\n",
       "    527.24,\n",
       "    888.71,\n",
       "    609.73,\n",
       "    746.0699999999999,\n",
       "    25.42,\n",
       "    501.55,\n",
       "    516.4399999999999,\n",
       "    794.71,\n",
       "    479.9,\n",
       "    515.46,\n",
       "    561.44,\n",
       "    742.4,\n",
       "    496.13,\n",
       "    1113.8700000000001,\n",
       "    626.74],\n",
       "   'backgroundColor': '#0047AB'},\n",
       "  {'label': 'Utilities',\n",
       "   'data': [335.3,\n",
       "    711.03,\n",
       "    649.1899999999999,\n",
       "    459.11,\n",
       "    690.16,\n",
       "    1047.11,\n",
       "    851.43,\n",
       "    383.73,\n",
       "    722.75,\n",
       "    521.13,\n",
       "    740.29,\n",
       "    1117.46,\n",
       "    927.54,\n",
       "    546.29,\n",
       "    1208.94,\n",
       "    935.52,\n",
       "    833.65,\n",
       "    536.34,\n",
       "    221.37,\n",
       "    436.89,\n",
       "    293.06,\n",
       "    554.29,\n",
       "    419.16,\n",
       "    285.23,\n",
       "    433.42,\n",
       "    1123.5700000000002,\n",
       "    81.49,\n",
       "    916.89,\n",
       "    0.0,\n",
       "    761.72,\n",
       "    409.85,\n",
       "    461.90999999999997,\n",
       "    511.92,\n",
       "    463.86,\n",
       "    925.98,\n",
       "    548.66,\n",
       "    553.97,\n",
       "    750.75,\n",
       "    605.64,\n",
       "    580.02,\n",
       "    265.53,\n",
       "    611.88,\n",
       "    394.32,\n",
       "    710.55,\n",
       "    614.48,\n",
       "    545.56,\n",
       "    430.65999999999997,\n",
       "    657.0,\n",
       "    357.58000000000004,\n",
       "    881.3,\n",
       "    754.5600000000001,\n",
       "    720.91,\n",
       "    211.29000000000002,\n",
       "    169.26999999999998,\n",
       "    564.23,\n",
       "    377.32,\n",
       "    457.51000000000005,\n",
       "    532.24,\n",
       "    369.5,\n",
       "    648.17],\n",
       "   'backgroundColor': '#808080'}]}"
      ]
     },
     "execution_count": 15,
     "metadata": {},
     "output_type": "execute_result"
    }
   ],
   "source": [
    "bar_df = barchart(main_df)\n",
    "bar_df"
   ]
  },
  {
   "cell_type": "code",
   "execution_count": 23,
   "metadata": {},
   "outputs": [
    {
     "data": {
      "text/html": [
       "<div>\n",
       "<style scoped>\n",
       "    .dataframe tbody tr th:only-of-type {\n",
       "        vertical-align: middle;\n",
       "    }\n",
       "\n",
       "    .dataframe tbody tr th {\n",
       "        vertical-align: top;\n",
       "    }\n",
       "\n",
       "    .dataframe thead th {\n",
       "        text-align: right;\n",
       "    }\n",
       "</style>\n",
       "<table border=\"1\" class=\"dataframe\">\n",
       "  <thead>\n",
       "    <tr style=\"text-align: right;\">\n",
       "      <th></th>\n",
       "      <th>YearMonth</th>\n",
       "      <th>Category</th>\n",
       "      <th>Amount</th>\n",
       "    </tr>\n",
       "  </thead>\n",
       "  <tbody>\n",
       "    <tr>\n",
       "      <th>0</th>\n",
       "      <td>January 2019</td>\n",
       "      <td>Dining Out</td>\n",
       "      <td>732.17</td>\n",
       "    </tr>\n",
       "    <tr>\n",
       "      <th>1</th>\n",
       "      <td>January 2019</td>\n",
       "      <td>Entertainment</td>\n",
       "      <td>688.52</td>\n",
       "    </tr>\n",
       "    <tr>\n",
       "      <th>2</th>\n",
       "      <td>January 2019</td>\n",
       "      <td>Groceries</td>\n",
       "      <td>131.16</td>\n",
       "    </tr>\n",
       "    <tr>\n",
       "      <th>3</th>\n",
       "      <td>January 2019</td>\n",
       "      <td>Health</td>\n",
       "      <td>82.77</td>\n",
       "    </tr>\n",
       "    <tr>\n",
       "      <th>4</th>\n",
       "      <td>January 2019</td>\n",
       "      <td>Transportation</td>\n",
       "      <td>487.84</td>\n",
       "    </tr>\n",
       "    <tr>\n",
       "      <th>...</th>\n",
       "      <td>...</td>\n",
       "      <td>...</td>\n",
       "      <td>...</td>\n",
       "    </tr>\n",
       "    <tr>\n",
       "      <th>353</th>\n",
       "      <td>December 2023</td>\n",
       "      <td>Entertainment</td>\n",
       "      <td>582.84</td>\n",
       "    </tr>\n",
       "    <tr>\n",
       "      <th>354</th>\n",
       "      <td>December 2023</td>\n",
       "      <td>Groceries</td>\n",
       "      <td>390.44</td>\n",
       "    </tr>\n",
       "    <tr>\n",
       "      <th>355</th>\n",
       "      <td>December 2023</td>\n",
       "      <td>Health</td>\n",
       "      <td>635.37</td>\n",
       "    </tr>\n",
       "    <tr>\n",
       "      <th>356</th>\n",
       "      <td>December 2023</td>\n",
       "      <td>Transportation</td>\n",
       "      <td>626.74</td>\n",
       "    </tr>\n",
       "    <tr>\n",
       "      <th>357</th>\n",
       "      <td>December 2023</td>\n",
       "      <td>Utilities</td>\n",
       "      <td>648.17</td>\n",
       "    </tr>\n",
       "  </tbody>\n",
       "</table>\n",
       "<p>358 rows × 3 columns</p>\n",
       "</div>"
      ],
      "text/plain": [
       "         YearMonth        Category  Amount\n",
       "0     January 2019      Dining Out  732.17\n",
       "1     January 2019   Entertainment  688.52\n",
       "2     January 2019       Groceries  131.16\n",
       "3     January 2019          Health   82.77\n",
       "4     January 2019  Transportation  487.84\n",
       "..             ...             ...     ...\n",
       "353  December 2023   Entertainment  582.84\n",
       "354  December 2023       Groceries  390.44\n",
       "355  December 2023          Health  635.37\n",
       "356  December 2023  Transportation  626.74\n",
       "357  December 2023       Utilities  648.17\n",
       "\n",
       "[358 rows x 3 columns]"
      ]
     },
     "execution_count": 23,
     "metadata": {},
     "output_type": "execute_result"
    }
   ],
   "source": [
    "# aggregate by year\n",
    "\n",
    "bar_df = aggregate_spending_by_category_long_form(main_df)\n",
    "bar_df\n"
   ]
  },
  {
   "cell_type": "code",
   "execution_count": 24,
   "metadata": {},
   "outputs": [
    {
     "data": {
      "application/vnd.plotly.v1+json": {
       "config": {
        "plotlyServerURL": "https://plot.ly"
       },
       "data": [
        {
         "alignmentgroup": "True",
         "hovertemplate": "Category=Dining Out<br>YearMonth=%{x}<br>Amount=%{y}<extra></extra>",
         "legendgroup": "Dining Out",
         "marker": {
          "color": "#636efa",
          "pattern": {
           "shape": ""
          }
         },
         "name": "Dining Out",
         "offsetgroup": "Dining Out",
         "orientation": "v",
         "showlegend": true,
         "textposition": "auto",
         "type": "bar",
         "x": [
          "January 2019",
          "February 2019",
          "March 2019",
          "April 2019",
          "May 2019",
          "June 2019",
          "July 2019",
          "August 2019",
          "September 2019",
          "October 2019",
          "November 2019",
          "December 2019",
          "January 2020",
          "February 2020",
          "March 2020",
          "April 2020",
          "May 2020",
          "June 2020",
          "July 2020",
          "August 2020",
          "September 2020",
          "October 2020",
          "November 2020",
          "December 2020",
          "January 2021",
          "February 2021",
          "March 2021",
          "April 2021",
          "May 2021",
          "June 2021",
          "July 2021",
          "August 2021",
          "September 2021",
          "October 2021",
          "November 2021",
          "December 2021",
          "January 2022",
          "February 2022",
          "March 2022",
          "April 2022",
          "May 2022",
          "June 2022",
          "July 2022",
          "August 2022",
          "September 2022",
          "October 2022",
          "November 2022",
          "December 2022",
          "January 2023",
          "February 2023",
          "March 2023",
          "April 2023",
          "May 2023",
          "June 2023",
          "July 2023",
          "August 2023",
          "September 2023",
          "October 2023",
          "November 2023",
          "December 2023"
         ],
         "xaxis": "x",
         "y": [
          732.17,
          725.7,
          1010.58,
          418.41999999999996,
          809.61,
          702.19,
          105.27,
          389.62,
          257.06,
          1082.31,
          121.69,
          1019.43,
          364.85,
          287.39,
          243.88,
          244.44,
          645.8100000000001,
          573.7,
          366.87,
          460.73,
          720.3199999999999,
          763.9300000000001,
          207.55,
          354.05,
          527.07,
          135.5,
          1132.3899999999999,
          231.41,
          986.87,
          616.01,
          620.1,
          675.18,
          957.99,
          598.65,
          789.54,
          279.32,
          480.66,
          632.49,
          722.1800000000001,
          1028.99,
          453.99,
          406.11,
          380.3,
          1013.9499999999999,
          583.46,
          742.55,
          276.07,
          425.16999999999996,
          458.93,
          133.53,
          139.78,
          554.47,
          793.12,
          503.99,
          842.78,
          603.41,
          329.05,
          628.91,
          325.14,
          791.23
         ],
         "yaxis": "y"
        },
        {
         "alignmentgroup": "True",
         "hovertemplate": "Category=Entertainment<br>YearMonth=%{x}<br>Amount=%{y}<extra></extra>",
         "legendgroup": "Entertainment",
         "marker": {
          "color": "#EF553B",
          "pattern": {
           "shape": ""
          }
         },
         "name": "Entertainment",
         "offsetgroup": "Entertainment",
         "orientation": "v",
         "showlegend": true,
         "textposition": "auto",
         "type": "bar",
         "x": [
          "January 2019",
          "February 2019",
          "March 2019",
          "April 2019",
          "May 2019",
          "June 2019",
          "July 2019",
          "August 2019",
          "September 2019",
          "October 2019",
          "November 2019",
          "December 2019",
          "January 2020",
          "February 2020",
          "March 2020",
          "April 2020",
          "May 2020",
          "June 2020",
          "July 2020",
          "August 2020",
          "September 2020",
          "October 2020",
          "November 2020",
          "December 2020",
          "January 2021",
          "March 2021",
          "April 2021",
          "May 2021",
          "June 2021",
          "July 2021",
          "August 2021",
          "September 2021",
          "October 2021",
          "November 2021",
          "December 2021",
          "January 2022",
          "February 2022",
          "March 2022",
          "April 2022",
          "May 2022",
          "June 2022",
          "July 2022",
          "August 2022",
          "September 2022",
          "October 2022",
          "November 2022",
          "December 2022",
          "January 2023",
          "February 2023",
          "March 2023",
          "April 2023",
          "May 2023",
          "June 2023",
          "July 2023",
          "August 2023",
          "September 2023",
          "October 2023",
          "November 2023",
          "December 2023"
         ],
         "xaxis": "x",
         "y": [
          688.52,
          559.07,
          600.2,
          708.13,
          782.05,
          640.69,
          653.97,
          225.14,
          440.88,
          343.68,
          531.85,
          528.49,
          466.8,
          244.35,
          602.63,
          765.46,
          529.8299999999999,
          591.9,
          574.5799999999999,
          612.84,
          312.39,
          1092.13,
          856.59,
          511.72,
          1133.43,
          476.26,
          390.52,
          114.75,
          270.52,
          91.17,
          240.74,
          448.67999999999995,
          379.56,
          311.49,
          379.35,
          550.34,
          530.83,
          954.49,
          473.38,
          503.94,
          433.04,
          456,
          437.44,
          317.19,
          167.49,
          739.16,
          132.14,
          843.79,
          89.01,
          669.0500000000001,
          296.9,
          1127.79,
          462.39,
          35.8,
          706.75,
          661.69,
          710.57,
          227.56,
          582.84
         ],
         "yaxis": "y"
        },
        {
         "alignmentgroup": "True",
         "hovertemplate": "Category=Groceries<br>YearMonth=%{x}<br>Amount=%{y}<extra></extra>",
         "legendgroup": "Groceries",
         "marker": {
          "color": "#00cc96",
          "pattern": {
           "shape": ""
          }
         },
         "name": "Groceries",
         "offsetgroup": "Groceries",
         "orientation": "v",
         "showlegend": true,
         "textposition": "auto",
         "type": "bar",
         "x": [
          "January 2019",
          "February 2019",
          "March 2019",
          "April 2019",
          "May 2019",
          "June 2019",
          "July 2019",
          "August 2019",
          "September 2019",
          "October 2019",
          "November 2019",
          "December 2019",
          "January 2020",
          "February 2020",
          "March 2020",
          "April 2020",
          "May 2020",
          "June 2020",
          "July 2020",
          "August 2020",
          "September 2020",
          "October 2020",
          "November 2020",
          "December 2020",
          "January 2021",
          "February 2021",
          "March 2021",
          "April 2021",
          "May 2021",
          "June 2021",
          "July 2021",
          "August 2021",
          "September 2021",
          "October 2021",
          "November 2021",
          "December 2021",
          "January 2022",
          "February 2022",
          "March 2022",
          "April 2022",
          "May 2022",
          "June 2022",
          "July 2022",
          "August 2022",
          "September 2022",
          "October 2022",
          "November 2022",
          "December 2022",
          "January 2023",
          "February 2023",
          "March 2023",
          "April 2023",
          "May 2023",
          "June 2023",
          "July 2023",
          "August 2023",
          "September 2023",
          "October 2023",
          "November 2023",
          "December 2023"
         ],
         "xaxis": "x",
         "y": [
          131.16,
          220.4,
          498.78,
          1003.0600000000001,
          256.94,
          427.16,
          510.9,
          681.79,
          626.2,
          503.63,
          557.72,
          433.72,
          509.49,
          534.4100000000001,
          613.54,
          182.16,
          638.71,
          336.97,
          538.45,
          379.95,
          856.22,
          88.42,
          575.86,
          333.73,
          234.81,
          725.63,
          698.84,
          821.4300000000001,
          807.69,
          433.67,
          597.17,
          728.52,
          480.95,
          606.65,
          62.31,
          899.49,
          343.34000000000003,
          284.91,
          205.49,
          314.15,
          539.03,
          747.3699999999999,
          644.28,
          101.41,
          696.59,
          636.47,
          637.89,
          476.59000000000003,
          784.72,
          805.92,
          539.25,
          827.89,
          394.53,
          1134.88,
          1045.38,
          551.02,
          785.3199999999999,
          577.81,
          964.3299999999999,
          390.44
         ],
         "yaxis": "y"
        },
        {
         "alignmentgroup": "True",
         "hovertemplate": "Category=Health<br>YearMonth=%{x}<br>Amount=%{y}<extra></extra>",
         "legendgroup": "Health",
         "marker": {
          "color": "#ab63fa",
          "pattern": {
           "shape": ""
          }
         },
         "name": "Health",
         "offsetgroup": "Health",
         "orientation": "v",
         "showlegend": true,
         "textposition": "auto",
         "type": "bar",
         "x": [
          "January 2019",
          "February 2019",
          "March 2019",
          "April 2019",
          "May 2019",
          "June 2019",
          "July 2019",
          "August 2019",
          "September 2019",
          "October 2019",
          "November 2019",
          "December 2019",
          "January 2020",
          "February 2020",
          "March 2020",
          "April 2020",
          "May 2020",
          "June 2020",
          "July 2020",
          "August 2020",
          "September 2020",
          "October 2020",
          "November 2020",
          "December 2020",
          "January 2021",
          "February 2021",
          "March 2021",
          "April 2021",
          "May 2021",
          "June 2021",
          "July 2021",
          "August 2021",
          "September 2021",
          "October 2021",
          "November 2021",
          "December 2021",
          "January 2022",
          "February 2022",
          "March 2022",
          "April 2022",
          "May 2022",
          "June 2022",
          "July 2022",
          "August 2022",
          "September 2022",
          "October 2022",
          "November 2022",
          "December 2022",
          "January 2023",
          "February 2023",
          "March 2023",
          "April 2023",
          "May 2023",
          "June 2023",
          "July 2023",
          "August 2023",
          "September 2023",
          "October 2023",
          "November 2023",
          "December 2023"
         ],
         "xaxis": "x",
         "y": [
          82.77000000000001,
          359.78999999999996,
          281.03000000000003,
          453.4,
          662.98,
          208.14000000000001,
          914.07,
          1130.88,
          706.22,
          409.86,
          280.24,
          646.84,
          725.2,
          882.02,
          675.55,
          592.1,
          530.24,
          1281.34,
          481.02,
          671.85,
          726.11,
          717.4100000000001,
          233.61,
          541.73,
          175.26,
          219.08,
          472.63,
          456.91,
          300.73,
          437.89,
          452.84000000000003,
          1215.78,
          467.22,
          446.5,
          801.21,
          447.75,
          722.83,
          261.65999999999997,
          1147.06,
          797.3,
          864.82,
          410.87,
          1342.3,
          501.74,
          964.3199999999999,
          412.21,
          495.43000000000006,
          803.89,
          453.53,
          833.14,
          1376.7,
          88.19,
          200.23999999999998,
          276.72,
          369.03,
          295.08,
          517.28,
          549.2,
          405.16,
          635.37
         ],
         "yaxis": "y"
        },
        {
         "alignmentgroup": "True",
         "hovertemplate": "Category=Transportation<br>YearMonth=%{x}<br>Amount=%{y}<extra></extra>",
         "legendgroup": "Transportation",
         "marker": {
          "color": "#FFA15A",
          "pattern": {
           "shape": ""
          }
         },
         "name": "Transportation",
         "offsetgroup": "Transportation",
         "orientation": "v",
         "showlegend": true,
         "textposition": "auto",
         "type": "bar",
         "x": [
          "January 2019",
          "February 2019",
          "March 2019",
          "April 2019",
          "May 2019",
          "June 2019",
          "July 2019",
          "August 2019",
          "September 2019",
          "October 2019",
          "November 2019",
          "December 2019",
          "January 2020",
          "February 2020",
          "March 2020",
          "April 2020",
          "May 2020",
          "June 2020",
          "July 2020",
          "August 2020",
          "September 2020",
          "October 2020",
          "November 2020",
          "December 2020",
          "January 2021",
          "February 2021",
          "March 2021",
          "April 2021",
          "May 2021",
          "June 2021",
          "July 2021",
          "August 2021",
          "September 2021",
          "October 2021",
          "November 2021",
          "December 2021",
          "January 2022",
          "February 2022",
          "March 2022",
          "April 2022",
          "May 2022",
          "June 2022",
          "July 2022",
          "August 2022",
          "September 2022",
          "October 2022",
          "November 2022",
          "December 2022",
          "January 2023",
          "February 2023",
          "March 2023",
          "April 2023",
          "May 2023",
          "June 2023",
          "July 2023",
          "August 2023",
          "September 2023",
          "October 2023",
          "November 2023",
          "December 2023"
         ],
         "xaxis": "x",
         "y": [
          487.84000000000003,
          723.61,
          489.56,
          325.53999999999996,
          450.85,
          293.21999999999997,
          967.4399999999999,
          401.76,
          342.11,
          557.5,
          957.1999999999999,
          193.15,
          233.45000000000002,
          844.65,
          429.19,
          542.56,
          298.6,
          331.15999999999997,
          1247.03,
          783.92,
          239.40999999999997,
          503.57,
          1050.78,
          1163.53,
          827.47,
          656.5699999999999,
          736.01,
          266.97,
          727.88,
          941.98,
          1347.55,
          524.97,
          551.04,
          473.36,
          288.78999999999996,
          827.15,
          348.18,
          216.57999999999998,
          502.99,
          222.51,
          1048.83,
          727.9200000000001,
          135.17,
          526.53,
          361.47,
          527.24,
          888.71,
          609.73,
          746.0699999999999,
          25.42,
          501.55,
          516.4399999999999,
          794.71,
          479.9,
          515.46,
          561.44,
          742.4,
          496.13,
          1113.8700000000001,
          626.74
         ],
         "yaxis": "y"
        },
        {
         "alignmentgroup": "True",
         "hovertemplate": "Category=Utilities<br>YearMonth=%{x}<br>Amount=%{y}<extra></extra>",
         "legendgroup": "Utilities",
         "marker": {
          "color": "#19d3f3",
          "pattern": {
           "shape": ""
          }
         },
         "name": "Utilities",
         "offsetgroup": "Utilities",
         "orientation": "v",
         "showlegend": true,
         "textposition": "auto",
         "type": "bar",
         "x": [
          "January 2019",
          "February 2019",
          "March 2019",
          "April 2019",
          "May 2019",
          "June 2019",
          "July 2019",
          "August 2019",
          "September 2019",
          "October 2019",
          "November 2019",
          "December 2019",
          "January 2020",
          "February 2020",
          "March 2020",
          "April 2020",
          "May 2020",
          "June 2020",
          "July 2020",
          "August 2020",
          "September 2020",
          "October 2020",
          "November 2020",
          "December 2020",
          "January 2021",
          "February 2021",
          "March 2021",
          "April 2021",
          "June 2021",
          "July 2021",
          "August 2021",
          "September 2021",
          "October 2021",
          "November 2021",
          "December 2021",
          "January 2022",
          "February 2022",
          "March 2022",
          "April 2022",
          "May 2022",
          "June 2022",
          "July 2022",
          "August 2022",
          "September 2022",
          "October 2022",
          "November 2022",
          "December 2022",
          "January 2023",
          "February 2023",
          "March 2023",
          "April 2023",
          "May 2023",
          "June 2023",
          "July 2023",
          "August 2023",
          "September 2023",
          "October 2023",
          "November 2023",
          "December 2023"
         ],
         "xaxis": "x",
         "y": [
          335.3,
          711.03,
          649.1899999999999,
          459.11,
          690.16,
          1047.11,
          851.43,
          383.73,
          722.75,
          521.13,
          740.29,
          1117.46,
          927.54,
          546.29,
          1208.94,
          935.52,
          833.65,
          536.34,
          221.37,
          436.89,
          293.06,
          554.29,
          419.16,
          285.23,
          433.42,
          1123.5700000000002,
          81.49,
          916.89,
          761.72,
          409.85,
          461.90999999999997,
          511.92,
          463.86,
          925.98,
          548.66,
          553.97,
          750.75,
          605.64,
          580.02,
          265.53,
          611.88,
          394.32,
          710.55,
          614.48,
          545.56,
          430.65999999999997,
          657,
          357.58000000000004,
          881.3,
          754.5600000000001,
          720.91,
          211.29000000000002,
          169.26999999999998,
          564.23,
          377.32,
          457.51000000000005,
          532.24,
          369.5,
          648.17
         ],
         "yaxis": "y"
        }
       ],
       "layout": {
        "barmode": "relative",
        "legend": {
         "title": {
          "text": "Category"
         },
         "tracegroupgap": 0
        },
        "template": {
         "data": {
          "bar": [
           {
            "error_x": {
             "color": "#2a3f5f"
            },
            "error_y": {
             "color": "#2a3f5f"
            },
            "marker": {
             "line": {
              "color": "#E5ECF6",
              "width": 0.5
             },
             "pattern": {
              "fillmode": "overlay",
              "size": 10,
              "solidity": 0.2
             }
            },
            "type": "bar"
           }
          ],
          "barpolar": [
           {
            "marker": {
             "line": {
              "color": "#E5ECF6",
              "width": 0.5
             },
             "pattern": {
              "fillmode": "overlay",
              "size": 10,
              "solidity": 0.2
             }
            },
            "type": "barpolar"
           }
          ],
          "carpet": [
           {
            "aaxis": {
             "endlinecolor": "#2a3f5f",
             "gridcolor": "white",
             "linecolor": "white",
             "minorgridcolor": "white",
             "startlinecolor": "#2a3f5f"
            },
            "baxis": {
             "endlinecolor": "#2a3f5f",
             "gridcolor": "white",
             "linecolor": "white",
             "minorgridcolor": "white",
             "startlinecolor": "#2a3f5f"
            },
            "type": "carpet"
           }
          ],
          "choropleth": [
           {
            "colorbar": {
             "outlinewidth": 0,
             "ticks": ""
            },
            "type": "choropleth"
           }
          ],
          "contour": [
           {
            "colorbar": {
             "outlinewidth": 0,
             "ticks": ""
            },
            "colorscale": [
             [
              0,
              "#0d0887"
             ],
             [
              0.1111111111111111,
              "#46039f"
             ],
             [
              0.2222222222222222,
              "#7201a8"
             ],
             [
              0.3333333333333333,
              "#9c179e"
             ],
             [
              0.4444444444444444,
              "#bd3786"
             ],
             [
              0.5555555555555556,
              "#d8576b"
             ],
             [
              0.6666666666666666,
              "#ed7953"
             ],
             [
              0.7777777777777778,
              "#fb9f3a"
             ],
             [
              0.8888888888888888,
              "#fdca26"
             ],
             [
              1,
              "#f0f921"
             ]
            ],
            "type": "contour"
           }
          ],
          "contourcarpet": [
           {
            "colorbar": {
             "outlinewidth": 0,
             "ticks": ""
            },
            "type": "contourcarpet"
           }
          ],
          "heatmap": [
           {
            "colorbar": {
             "outlinewidth": 0,
             "ticks": ""
            },
            "colorscale": [
             [
              0,
              "#0d0887"
             ],
             [
              0.1111111111111111,
              "#46039f"
             ],
             [
              0.2222222222222222,
              "#7201a8"
             ],
             [
              0.3333333333333333,
              "#9c179e"
             ],
             [
              0.4444444444444444,
              "#bd3786"
             ],
             [
              0.5555555555555556,
              "#d8576b"
             ],
             [
              0.6666666666666666,
              "#ed7953"
             ],
             [
              0.7777777777777778,
              "#fb9f3a"
             ],
             [
              0.8888888888888888,
              "#fdca26"
             ],
             [
              1,
              "#f0f921"
             ]
            ],
            "type": "heatmap"
           }
          ],
          "heatmapgl": [
           {
            "colorbar": {
             "outlinewidth": 0,
             "ticks": ""
            },
            "colorscale": [
             [
              0,
              "#0d0887"
             ],
             [
              0.1111111111111111,
              "#46039f"
             ],
             [
              0.2222222222222222,
              "#7201a8"
             ],
             [
              0.3333333333333333,
              "#9c179e"
             ],
             [
              0.4444444444444444,
              "#bd3786"
             ],
             [
              0.5555555555555556,
              "#d8576b"
             ],
             [
              0.6666666666666666,
              "#ed7953"
             ],
             [
              0.7777777777777778,
              "#fb9f3a"
             ],
             [
              0.8888888888888888,
              "#fdca26"
             ],
             [
              1,
              "#f0f921"
             ]
            ],
            "type": "heatmapgl"
           }
          ],
          "histogram": [
           {
            "marker": {
             "pattern": {
              "fillmode": "overlay",
              "size": 10,
              "solidity": 0.2
             }
            },
            "type": "histogram"
           }
          ],
          "histogram2d": [
           {
            "colorbar": {
             "outlinewidth": 0,
             "ticks": ""
            },
            "colorscale": [
             [
              0,
              "#0d0887"
             ],
             [
              0.1111111111111111,
              "#46039f"
             ],
             [
              0.2222222222222222,
              "#7201a8"
             ],
             [
              0.3333333333333333,
              "#9c179e"
             ],
             [
              0.4444444444444444,
              "#bd3786"
             ],
             [
              0.5555555555555556,
              "#d8576b"
             ],
             [
              0.6666666666666666,
              "#ed7953"
             ],
             [
              0.7777777777777778,
              "#fb9f3a"
             ],
             [
              0.8888888888888888,
              "#fdca26"
             ],
             [
              1,
              "#f0f921"
             ]
            ],
            "type": "histogram2d"
           }
          ],
          "histogram2dcontour": [
           {
            "colorbar": {
             "outlinewidth": 0,
             "ticks": ""
            },
            "colorscale": [
             [
              0,
              "#0d0887"
             ],
             [
              0.1111111111111111,
              "#46039f"
             ],
             [
              0.2222222222222222,
              "#7201a8"
             ],
             [
              0.3333333333333333,
              "#9c179e"
             ],
             [
              0.4444444444444444,
              "#bd3786"
             ],
             [
              0.5555555555555556,
              "#d8576b"
             ],
             [
              0.6666666666666666,
              "#ed7953"
             ],
             [
              0.7777777777777778,
              "#fb9f3a"
             ],
             [
              0.8888888888888888,
              "#fdca26"
             ],
             [
              1,
              "#f0f921"
             ]
            ],
            "type": "histogram2dcontour"
           }
          ],
          "mesh3d": [
           {
            "colorbar": {
             "outlinewidth": 0,
             "ticks": ""
            },
            "type": "mesh3d"
           }
          ],
          "parcoords": [
           {
            "line": {
             "colorbar": {
              "outlinewidth": 0,
              "ticks": ""
             }
            },
            "type": "parcoords"
           }
          ],
          "pie": [
           {
            "automargin": true,
            "type": "pie"
           }
          ],
          "scatter": [
           {
            "fillpattern": {
             "fillmode": "overlay",
             "size": 10,
             "solidity": 0.2
            },
            "type": "scatter"
           }
          ],
          "scatter3d": [
           {
            "line": {
             "colorbar": {
              "outlinewidth": 0,
              "ticks": ""
             }
            },
            "marker": {
             "colorbar": {
              "outlinewidth": 0,
              "ticks": ""
             }
            },
            "type": "scatter3d"
           }
          ],
          "scattercarpet": [
           {
            "marker": {
             "colorbar": {
              "outlinewidth": 0,
              "ticks": ""
             }
            },
            "type": "scattercarpet"
           }
          ],
          "scattergeo": [
           {
            "marker": {
             "colorbar": {
              "outlinewidth": 0,
              "ticks": ""
             }
            },
            "type": "scattergeo"
           }
          ],
          "scattergl": [
           {
            "marker": {
             "colorbar": {
              "outlinewidth": 0,
              "ticks": ""
             }
            },
            "type": "scattergl"
           }
          ],
          "scattermapbox": [
           {
            "marker": {
             "colorbar": {
              "outlinewidth": 0,
              "ticks": ""
             }
            },
            "type": "scattermapbox"
           }
          ],
          "scatterpolar": [
           {
            "marker": {
             "colorbar": {
              "outlinewidth": 0,
              "ticks": ""
             }
            },
            "type": "scatterpolar"
           }
          ],
          "scatterpolargl": [
           {
            "marker": {
             "colorbar": {
              "outlinewidth": 0,
              "ticks": ""
             }
            },
            "type": "scatterpolargl"
           }
          ],
          "scatterternary": [
           {
            "marker": {
             "colorbar": {
              "outlinewidth": 0,
              "ticks": ""
             }
            },
            "type": "scatterternary"
           }
          ],
          "surface": [
           {
            "colorbar": {
             "outlinewidth": 0,
             "ticks": ""
            },
            "colorscale": [
             [
              0,
              "#0d0887"
             ],
             [
              0.1111111111111111,
              "#46039f"
             ],
             [
              0.2222222222222222,
              "#7201a8"
             ],
             [
              0.3333333333333333,
              "#9c179e"
             ],
             [
              0.4444444444444444,
              "#bd3786"
             ],
             [
              0.5555555555555556,
              "#d8576b"
             ],
             [
              0.6666666666666666,
              "#ed7953"
             ],
             [
              0.7777777777777778,
              "#fb9f3a"
             ],
             [
              0.8888888888888888,
              "#fdca26"
             ],
             [
              1,
              "#f0f921"
             ]
            ],
            "type": "surface"
           }
          ],
          "table": [
           {
            "cells": {
             "fill": {
              "color": "#EBF0F8"
             },
             "line": {
              "color": "white"
             }
            },
            "header": {
             "fill": {
              "color": "#C8D4E3"
             },
             "line": {
              "color": "white"
             }
            },
            "type": "table"
           }
          ]
         },
         "layout": {
          "annotationdefaults": {
           "arrowcolor": "#2a3f5f",
           "arrowhead": 0,
           "arrowwidth": 1
          },
          "autotypenumbers": "strict",
          "coloraxis": {
           "colorbar": {
            "outlinewidth": 0,
            "ticks": ""
           }
          },
          "colorscale": {
           "diverging": [
            [
             0,
             "#8e0152"
            ],
            [
             0.1,
             "#c51b7d"
            ],
            [
             0.2,
             "#de77ae"
            ],
            [
             0.3,
             "#f1b6da"
            ],
            [
             0.4,
             "#fde0ef"
            ],
            [
             0.5,
             "#f7f7f7"
            ],
            [
             0.6,
             "#e6f5d0"
            ],
            [
             0.7,
             "#b8e186"
            ],
            [
             0.8,
             "#7fbc41"
            ],
            [
             0.9,
             "#4d9221"
            ],
            [
             1,
             "#276419"
            ]
           ],
           "sequential": [
            [
             0,
             "#0d0887"
            ],
            [
             0.1111111111111111,
             "#46039f"
            ],
            [
             0.2222222222222222,
             "#7201a8"
            ],
            [
             0.3333333333333333,
             "#9c179e"
            ],
            [
             0.4444444444444444,
             "#bd3786"
            ],
            [
             0.5555555555555556,
             "#d8576b"
            ],
            [
             0.6666666666666666,
             "#ed7953"
            ],
            [
             0.7777777777777778,
             "#fb9f3a"
            ],
            [
             0.8888888888888888,
             "#fdca26"
            ],
            [
             1,
             "#f0f921"
            ]
           ],
           "sequentialminus": [
            [
             0,
             "#0d0887"
            ],
            [
             0.1111111111111111,
             "#46039f"
            ],
            [
             0.2222222222222222,
             "#7201a8"
            ],
            [
             0.3333333333333333,
             "#9c179e"
            ],
            [
             0.4444444444444444,
             "#bd3786"
            ],
            [
             0.5555555555555556,
             "#d8576b"
            ],
            [
             0.6666666666666666,
             "#ed7953"
            ],
            [
             0.7777777777777778,
             "#fb9f3a"
            ],
            [
             0.8888888888888888,
             "#fdca26"
            ],
            [
             1,
             "#f0f921"
            ]
           ]
          },
          "colorway": [
           "#636efa",
           "#EF553B",
           "#00cc96",
           "#ab63fa",
           "#FFA15A",
           "#19d3f3",
           "#FF6692",
           "#B6E880",
           "#FF97FF",
           "#FECB52"
          ],
          "font": {
           "color": "#2a3f5f"
          },
          "geo": {
           "bgcolor": "white",
           "lakecolor": "white",
           "landcolor": "#E5ECF6",
           "showlakes": true,
           "showland": true,
           "subunitcolor": "white"
          },
          "hoverlabel": {
           "align": "left"
          },
          "hovermode": "closest",
          "mapbox": {
           "style": "light"
          },
          "paper_bgcolor": "white",
          "plot_bgcolor": "#E5ECF6",
          "polar": {
           "angularaxis": {
            "gridcolor": "white",
            "linecolor": "white",
            "ticks": ""
           },
           "bgcolor": "#E5ECF6",
           "radialaxis": {
            "gridcolor": "white",
            "linecolor": "white",
            "ticks": ""
           }
          },
          "scene": {
           "xaxis": {
            "backgroundcolor": "#E5ECF6",
            "gridcolor": "white",
            "gridwidth": 2,
            "linecolor": "white",
            "showbackground": true,
            "ticks": "",
            "zerolinecolor": "white"
           },
           "yaxis": {
            "backgroundcolor": "#E5ECF6",
            "gridcolor": "white",
            "gridwidth": 2,
            "linecolor": "white",
            "showbackground": true,
            "ticks": "",
            "zerolinecolor": "white"
           },
           "zaxis": {
            "backgroundcolor": "#E5ECF6",
            "gridcolor": "white",
            "gridwidth": 2,
            "linecolor": "white",
            "showbackground": true,
            "ticks": "",
            "zerolinecolor": "white"
           }
          },
          "shapedefaults": {
           "line": {
            "color": "#2a3f5f"
           }
          },
          "ternary": {
           "aaxis": {
            "gridcolor": "white",
            "linecolor": "white",
            "ticks": ""
           },
           "baxis": {
            "gridcolor": "white",
            "linecolor": "white",
            "ticks": ""
           },
           "bgcolor": "#E5ECF6",
           "caxis": {
            "gridcolor": "white",
            "linecolor": "white",
            "ticks": ""
           }
          },
          "title": {
           "x": 0.05
          },
          "xaxis": {
           "automargin": true,
           "gridcolor": "white",
           "linecolor": "white",
           "ticks": "",
           "title": {
            "standoff": 15
           },
           "zerolinecolor": "white",
           "zerolinewidth": 2
          },
          "yaxis": {
           "automargin": true,
           "gridcolor": "white",
           "linecolor": "white",
           "ticks": "",
           "title": {
            "standoff": 15
           },
           "zerolinecolor": "white",
           "zerolinewidth": 2
          }
         }
        },
        "title": {
         "text": "Expenditure breakdown"
        },
        "xaxis": {
         "anchor": "y",
         "domain": [
          0,
          1
         ],
         "title": {
          "text": "YearMonth"
         }
        },
        "yaxis": {
         "anchor": "x",
         "domain": [
          0,
          1
         ],
         "title": {
          "text": "Amount"
         }
        }
       }
      }
     },
     "metadata": {},
     "output_type": "display_data"
    }
   ],
   "source": [
    "#### stacked bar charts\n",
    "\n",
    "fig = px.bar(bar_df, x=\"YearMonth\", y=\"Amount\", color=\"Category\", title=\"Expenditure breakdown\")\n",
    "fig.show()"
   ]
  },
  {
   "cell_type": "markdown",
   "metadata": {},
   "source": [
    "#### line charts"
   ]
  },
  {
   "cell_type": "code",
   "execution_count": 15,
   "metadata": {},
   "outputs": [
    {
     "data": {
      "text/html": [
       "<div>\n",
       "<style scoped>\n",
       "    .dataframe tbody tr th:only-of-type {\n",
       "        vertical-align: middle;\n",
       "    }\n",
       "\n",
       "    .dataframe tbody tr th {\n",
       "        vertical-align: top;\n",
       "    }\n",
       "\n",
       "    .dataframe thead th {\n",
       "        text-align: right;\n",
       "    }\n",
       "</style>\n",
       "<table border=\"1\" class=\"dataframe\">\n",
       "  <thead>\n",
       "    <tr style=\"text-align: right;\">\n",
       "      <th></th>\n",
       "      <th>Month</th>\n",
       "      <th>Total Expenditure</th>\n",
       "    </tr>\n",
       "  </thead>\n",
       "  <tbody>\n",
       "    <tr>\n",
       "      <th>0</th>\n",
       "      <td>January 2019</td>\n",
       "      <td>2457.76</td>\n",
       "    </tr>\n",
       "    <tr>\n",
       "      <th>1</th>\n",
       "      <td>February 2019</td>\n",
       "      <td>3299.60</td>\n",
       "    </tr>\n",
       "    <tr>\n",
       "      <th>2</th>\n",
       "      <td>March 2019</td>\n",
       "      <td>3529.34</td>\n",
       "    </tr>\n",
       "    <tr>\n",
       "      <th>3</th>\n",
       "      <td>April 2019</td>\n",
       "      <td>3367.66</td>\n",
       "    </tr>\n",
       "    <tr>\n",
       "      <th>4</th>\n",
       "      <td>May 2019</td>\n",
       "      <td>3652.59</td>\n",
       "    </tr>\n",
       "    <tr>\n",
       "      <th>5</th>\n",
       "      <td>June 2019</td>\n",
       "      <td>3318.51</td>\n",
       "    </tr>\n",
       "    <tr>\n",
       "      <th>6</th>\n",
       "      <td>July 2019</td>\n",
       "      <td>4003.08</td>\n",
       "    </tr>\n",
       "    <tr>\n",
       "      <th>7</th>\n",
       "      <td>August 2019</td>\n",
       "      <td>3212.92</td>\n",
       "    </tr>\n",
       "    <tr>\n",
       "      <th>8</th>\n",
       "      <td>September 2019</td>\n",
       "      <td>3095.22</td>\n",
       "    </tr>\n",
       "    <tr>\n",
       "      <th>9</th>\n",
       "      <td>October 2019</td>\n",
       "      <td>3418.11</td>\n",
       "    </tr>\n",
       "    <tr>\n",
       "      <th>10</th>\n",
       "      <td>November 2019</td>\n",
       "      <td>3188.99</td>\n",
       "    </tr>\n",
       "    <tr>\n",
       "      <th>11</th>\n",
       "      <td>December 2019</td>\n",
       "      <td>3939.09</td>\n",
       "    </tr>\n",
       "    <tr>\n",
       "      <th>12</th>\n",
       "      <td>January 2020</td>\n",
       "      <td>3227.33</td>\n",
       "    </tr>\n",
       "    <tr>\n",
       "      <th>13</th>\n",
       "      <td>February 2020</td>\n",
       "      <td>3339.11</td>\n",
       "    </tr>\n",
       "    <tr>\n",
       "      <th>14</th>\n",
       "      <td>March 2020</td>\n",
       "      <td>3773.73</td>\n",
       "    </tr>\n",
       "    <tr>\n",
       "      <th>15</th>\n",
       "      <td>April 2020</td>\n",
       "      <td>3262.24</td>\n",
       "    </tr>\n",
       "    <tr>\n",
       "      <th>16</th>\n",
       "      <td>May 2020</td>\n",
       "      <td>3476.84</td>\n",
       "    </tr>\n",
       "    <tr>\n",
       "      <th>17</th>\n",
       "      <td>June 2020</td>\n",
       "      <td>3651.41</td>\n",
       "    </tr>\n",
       "    <tr>\n",
       "      <th>18</th>\n",
       "      <td>July 2020</td>\n",
       "      <td>3429.32</td>\n",
       "    </tr>\n",
       "    <tr>\n",
       "      <th>19</th>\n",
       "      <td>August 2020</td>\n",
       "      <td>3346.18</td>\n",
       "    </tr>\n",
       "    <tr>\n",
       "      <th>20</th>\n",
       "      <td>September 2020</td>\n",
       "      <td>3147.51</td>\n",
       "    </tr>\n",
       "    <tr>\n",
       "      <th>21</th>\n",
       "      <td>October 2020</td>\n",
       "      <td>3719.75</td>\n",
       "    </tr>\n",
       "    <tr>\n",
       "      <th>22</th>\n",
       "      <td>November 2020</td>\n",
       "      <td>3343.55</td>\n",
       "    </tr>\n",
       "    <tr>\n",
       "      <th>23</th>\n",
       "      <td>December 2020</td>\n",
       "      <td>3189.99</td>\n",
       "    </tr>\n",
       "    <tr>\n",
       "      <th>24</th>\n",
       "      <td>January 2021</td>\n",
       "      <td>3331.46</td>\n",
       "    </tr>\n",
       "    <tr>\n",
       "      <th>25</th>\n",
       "      <td>February 2021</td>\n",
       "      <td>2860.35</td>\n",
       "    </tr>\n",
       "    <tr>\n",
       "      <th>26</th>\n",
       "      <td>March 2021</td>\n",
       "      <td>3597.62</td>\n",
       "    </tr>\n",
       "    <tr>\n",
       "      <th>27</th>\n",
       "      <td>April 2021</td>\n",
       "      <td>3084.13</td>\n",
       "    </tr>\n",
       "    <tr>\n",
       "      <th>28</th>\n",
       "      <td>May 2021</td>\n",
       "      <td>2937.92</td>\n",
       "    </tr>\n",
       "    <tr>\n",
       "      <th>29</th>\n",
       "      <td>June 2021</td>\n",
       "      <td>3461.79</td>\n",
       "    </tr>\n",
       "    <tr>\n",
       "      <th>30</th>\n",
       "      <td>July 2021</td>\n",
       "      <td>3518.68</td>\n",
       "    </tr>\n",
       "    <tr>\n",
       "      <th>31</th>\n",
       "      <td>August 2021</td>\n",
       "      <td>3847.10</td>\n",
       "    </tr>\n",
       "    <tr>\n",
       "      <th>32</th>\n",
       "      <td>September 2021</td>\n",
       "      <td>3417.80</td>\n",
       "    </tr>\n",
       "    <tr>\n",
       "      <th>33</th>\n",
       "      <td>October 2021</td>\n",
       "      <td>2968.58</td>\n",
       "    </tr>\n",
       "    <tr>\n",
       "      <th>34</th>\n",
       "      <td>November 2021</td>\n",
       "      <td>3179.32</td>\n",
       "    </tr>\n",
       "    <tr>\n",
       "      <th>35</th>\n",
       "      <td>December 2021</td>\n",
       "      <td>3381.72</td>\n",
       "    </tr>\n",
       "    <tr>\n",
       "      <th>36</th>\n",
       "      <td>January 2022</td>\n",
       "      <td>2999.32</td>\n",
       "    </tr>\n",
       "    <tr>\n",
       "      <th>37</th>\n",
       "      <td>February 2022</td>\n",
       "      <td>2677.22</td>\n",
       "    </tr>\n",
       "    <tr>\n",
       "      <th>38</th>\n",
       "      <td>March 2022</td>\n",
       "      <td>4137.85</td>\n",
       "    </tr>\n",
       "    <tr>\n",
       "      <th>39</th>\n",
       "      <td>April 2022</td>\n",
       "      <td>3416.35</td>\n",
       "    </tr>\n",
       "    <tr>\n",
       "      <th>40</th>\n",
       "      <td>May 2022</td>\n",
       "      <td>3676.14</td>\n",
       "    </tr>\n",
       "    <tr>\n",
       "      <th>41</th>\n",
       "      <td>June 2022</td>\n",
       "      <td>3337.19</td>\n",
       "    </tr>\n",
       "    <tr>\n",
       "      <th>42</th>\n",
       "      <td>July 2022</td>\n",
       "      <td>3352.37</td>\n",
       "    </tr>\n",
       "    <tr>\n",
       "      <th>43</th>\n",
       "      <td>August 2022</td>\n",
       "      <td>3291.62</td>\n",
       "    </tr>\n",
       "    <tr>\n",
       "      <th>44</th>\n",
       "      <td>September 2022</td>\n",
       "      <td>3537.51</td>\n",
       "    </tr>\n",
       "    <tr>\n",
       "      <th>45</th>\n",
       "      <td>October 2022</td>\n",
       "      <td>3031.52</td>\n",
       "    </tr>\n",
       "    <tr>\n",
       "      <th>46</th>\n",
       "      <td>November 2022</td>\n",
       "      <td>3467.92</td>\n",
       "    </tr>\n",
       "    <tr>\n",
       "      <th>47</th>\n",
       "      <td>December 2022</td>\n",
       "      <td>3104.52</td>\n",
       "    </tr>\n",
       "    <tr>\n",
       "      <th>48</th>\n",
       "      <td>January 2023</td>\n",
       "      <td>3644.62</td>\n",
       "    </tr>\n",
       "    <tr>\n",
       "      <th>49</th>\n",
       "      <td>February 2023</td>\n",
       "      <td>2768.32</td>\n",
       "    </tr>\n",
       "    <tr>\n",
       "      <th>50</th>\n",
       "      <td>March 2023</td>\n",
       "      <td>3980.89</td>\n",
       "    </tr>\n",
       "    <tr>\n",
       "      <th>51</th>\n",
       "      <td>April 2023</td>\n",
       "      <td>3004.80</td>\n",
       "    </tr>\n",
       "    <tr>\n",
       "      <th>52</th>\n",
       "      <td>May 2023</td>\n",
       "      <td>3521.68</td>\n",
       "    </tr>\n",
       "    <tr>\n",
       "      <th>53</th>\n",
       "      <td>June 2023</td>\n",
       "      <td>3027.15</td>\n",
       "    </tr>\n",
       "    <tr>\n",
       "      <th>54</th>\n",
       "      <td>July 2023</td>\n",
       "      <td>3372.68</td>\n",
       "    </tr>\n",
       "    <tr>\n",
       "      <th>55</th>\n",
       "      <td>August 2023</td>\n",
       "      <td>3095.02</td>\n",
       "    </tr>\n",
       "    <tr>\n",
       "      <th>56</th>\n",
       "      <td>September 2023</td>\n",
       "      <td>3493.25</td>\n",
       "    </tr>\n",
       "    <tr>\n",
       "      <th>57</th>\n",
       "      <td>October 2023</td>\n",
       "      <td>3494.86</td>\n",
       "    </tr>\n",
       "    <tr>\n",
       "      <th>58</th>\n",
       "      <td>November 2023</td>\n",
       "      <td>3405.56</td>\n",
       "    </tr>\n",
       "    <tr>\n",
       "      <th>59</th>\n",
       "      <td>December 2023</td>\n",
       "      <td>3674.79</td>\n",
       "    </tr>\n",
       "  </tbody>\n",
       "</table>\n",
       "</div>"
      ],
      "text/plain": [
       "             Month  Total Expenditure\n",
       "0     January 2019            2457.76\n",
       "1    February 2019            3299.60\n",
       "2       March 2019            3529.34\n",
       "3       April 2019            3367.66\n",
       "4         May 2019            3652.59\n",
       "5        June 2019            3318.51\n",
       "6        July 2019            4003.08\n",
       "7      August 2019            3212.92\n",
       "8   September 2019            3095.22\n",
       "9     October 2019            3418.11\n",
       "10   November 2019            3188.99\n",
       "11   December 2019            3939.09\n",
       "12    January 2020            3227.33\n",
       "13   February 2020            3339.11\n",
       "14      March 2020            3773.73\n",
       "15      April 2020            3262.24\n",
       "16        May 2020            3476.84\n",
       "17       June 2020            3651.41\n",
       "18       July 2020            3429.32\n",
       "19     August 2020            3346.18\n",
       "20  September 2020            3147.51\n",
       "21    October 2020            3719.75\n",
       "22   November 2020            3343.55\n",
       "23   December 2020            3189.99\n",
       "24    January 2021            3331.46\n",
       "25   February 2021            2860.35\n",
       "26      March 2021            3597.62\n",
       "27      April 2021            3084.13\n",
       "28        May 2021            2937.92\n",
       "29       June 2021            3461.79\n",
       "30       July 2021            3518.68\n",
       "31     August 2021            3847.10\n",
       "32  September 2021            3417.80\n",
       "33    October 2021            2968.58\n",
       "34   November 2021            3179.32\n",
       "35   December 2021            3381.72\n",
       "36    January 2022            2999.32\n",
       "37   February 2022            2677.22\n",
       "38      March 2022            4137.85\n",
       "39      April 2022            3416.35\n",
       "40        May 2022            3676.14\n",
       "41       June 2022            3337.19\n",
       "42       July 2022            3352.37\n",
       "43     August 2022            3291.62\n",
       "44  September 2022            3537.51\n",
       "45    October 2022            3031.52\n",
       "46   November 2022            3467.92\n",
       "47   December 2022            3104.52\n",
       "48    January 2023            3644.62\n",
       "49   February 2023            2768.32\n",
       "50      March 2023            3980.89\n",
       "51      April 2023            3004.80\n",
       "52        May 2023            3521.68\n",
       "53       June 2023            3027.15\n",
       "54       July 2023            3372.68\n",
       "55     August 2023            3095.02\n",
       "56  September 2023            3493.25\n",
       "57    October 2023            3494.86\n",
       "58   November 2023            3405.56\n",
       "59   December 2023            3674.79"
      ]
     },
     "execution_count": 15,
     "metadata": {},
     "output_type": "execute_result"
    }
   ],
   "source": [
    "# aggregate total spending per month, per year\n",
    "line_df = sum_expenditure_by_month(main_df)\n",
    "line_df"
   ]
  },
  {
   "cell_type": "code",
   "execution_count": 17,
   "metadata": {},
   "outputs": [
    {
     "data": {
      "application/vnd.plotly.v1+json": {
       "config": {
        "plotlyServerURL": "https://plot.ly"
       },
       "data": [
        {
         "hovertemplate": "Month=%{x}<br>Total Expenditure=%{y}<extra></extra>",
         "legendgroup": "",
         "line": {
          "color": "#636efa",
          "dash": "solid"
         },
         "marker": {
          "symbol": "circle"
         },
         "mode": "lines+markers",
         "name": "",
         "orientation": "v",
         "showlegend": false,
         "type": "scatter",
         "x": [
          "January 2019",
          "February 2019",
          "March 2019",
          "April 2019",
          "May 2019",
          "June 2019",
          "July 2019",
          "August 2019",
          "September 2019",
          "October 2019",
          "November 2019",
          "December 2019",
          "January 2020",
          "February 2020",
          "March 2020",
          "April 2020",
          "May 2020",
          "June 2020",
          "July 2020",
          "August 2020",
          "September 2020",
          "October 2020",
          "November 2020",
          "December 2020",
          "January 2021",
          "February 2021",
          "March 2021",
          "April 2021",
          "May 2021",
          "June 2021",
          "July 2021",
          "August 2021",
          "September 2021",
          "October 2021",
          "November 2021",
          "December 2021",
          "January 2022",
          "February 2022",
          "March 2022",
          "April 2022",
          "May 2022",
          "June 2022",
          "July 2022",
          "August 2022",
          "September 2022",
          "October 2022",
          "November 2022",
          "December 2022",
          "January 2023",
          "February 2023",
          "March 2023",
          "April 2023",
          "May 2023",
          "June 2023",
          "July 2023",
          "August 2023",
          "September 2023",
          "October 2023",
          "November 2023",
          "December 2023"
         ],
         "xaxis": "x",
         "y": [
          2457.76,
          3299.6,
          3529.34,
          3367.66,
          3652.59,
          3318.5099999999998,
          4003.08,
          3212.92,
          3095.22,
          3418.11,
          3188.99,
          3939.09,
          3227.33,
          3339.11,
          3773.73,
          3262.24,
          3476.84,
          3651.41,
          3429.32,
          3346.18,
          3147.51,
          3719.75,
          3343.55,
          3189.99,
          3331.46,
          2860.35,
          3597.62,
          3084.13,
          2937.92,
          3461.79,
          3518.68,
          3847.1,
          3417.8,
          2968.58,
          3179.32,
          3381.7200000000003,
          2999.32,
          2677.22,
          4137.85,
          3416.35,
          3676.14,
          3337.19,
          3352.37,
          3291.62,
          3537.5099999999998,
          3031.52,
          3467.92,
          3104.52,
          3644.62,
          2768.32,
          3980.89,
          3004.7999999999997,
          3521.68,
          3027.15,
          3372.68,
          3095.02,
          3493.25,
          3494.86,
          3405.56,
          3674.79
         ],
         "yaxis": "y"
        }
       ],
       "layout": {
        "legend": {
         "tracegroupgap": 0
        },
        "template": {
         "data": {
          "bar": [
           {
            "error_x": {
             "color": "#2a3f5f"
            },
            "error_y": {
             "color": "#2a3f5f"
            },
            "marker": {
             "line": {
              "color": "#E5ECF6",
              "width": 0.5
             },
             "pattern": {
              "fillmode": "overlay",
              "size": 10,
              "solidity": 0.2
             }
            },
            "type": "bar"
           }
          ],
          "barpolar": [
           {
            "marker": {
             "line": {
              "color": "#E5ECF6",
              "width": 0.5
             },
             "pattern": {
              "fillmode": "overlay",
              "size": 10,
              "solidity": 0.2
             }
            },
            "type": "barpolar"
           }
          ],
          "carpet": [
           {
            "aaxis": {
             "endlinecolor": "#2a3f5f",
             "gridcolor": "white",
             "linecolor": "white",
             "minorgridcolor": "white",
             "startlinecolor": "#2a3f5f"
            },
            "baxis": {
             "endlinecolor": "#2a3f5f",
             "gridcolor": "white",
             "linecolor": "white",
             "minorgridcolor": "white",
             "startlinecolor": "#2a3f5f"
            },
            "type": "carpet"
           }
          ],
          "choropleth": [
           {
            "colorbar": {
             "outlinewidth": 0,
             "ticks": ""
            },
            "type": "choropleth"
           }
          ],
          "contour": [
           {
            "colorbar": {
             "outlinewidth": 0,
             "ticks": ""
            },
            "colorscale": [
             [
              0,
              "#0d0887"
             ],
             [
              0.1111111111111111,
              "#46039f"
             ],
             [
              0.2222222222222222,
              "#7201a8"
             ],
             [
              0.3333333333333333,
              "#9c179e"
             ],
             [
              0.4444444444444444,
              "#bd3786"
             ],
             [
              0.5555555555555556,
              "#d8576b"
             ],
             [
              0.6666666666666666,
              "#ed7953"
             ],
             [
              0.7777777777777778,
              "#fb9f3a"
             ],
             [
              0.8888888888888888,
              "#fdca26"
             ],
             [
              1,
              "#f0f921"
             ]
            ],
            "type": "contour"
           }
          ],
          "contourcarpet": [
           {
            "colorbar": {
             "outlinewidth": 0,
             "ticks": ""
            },
            "type": "contourcarpet"
           }
          ],
          "heatmap": [
           {
            "colorbar": {
             "outlinewidth": 0,
             "ticks": ""
            },
            "colorscale": [
             [
              0,
              "#0d0887"
             ],
             [
              0.1111111111111111,
              "#46039f"
             ],
             [
              0.2222222222222222,
              "#7201a8"
             ],
             [
              0.3333333333333333,
              "#9c179e"
             ],
             [
              0.4444444444444444,
              "#bd3786"
             ],
             [
              0.5555555555555556,
              "#d8576b"
             ],
             [
              0.6666666666666666,
              "#ed7953"
             ],
             [
              0.7777777777777778,
              "#fb9f3a"
             ],
             [
              0.8888888888888888,
              "#fdca26"
             ],
             [
              1,
              "#f0f921"
             ]
            ],
            "type": "heatmap"
           }
          ],
          "heatmapgl": [
           {
            "colorbar": {
             "outlinewidth": 0,
             "ticks": ""
            },
            "colorscale": [
             [
              0,
              "#0d0887"
             ],
             [
              0.1111111111111111,
              "#46039f"
             ],
             [
              0.2222222222222222,
              "#7201a8"
             ],
             [
              0.3333333333333333,
              "#9c179e"
             ],
             [
              0.4444444444444444,
              "#bd3786"
             ],
             [
              0.5555555555555556,
              "#d8576b"
             ],
             [
              0.6666666666666666,
              "#ed7953"
             ],
             [
              0.7777777777777778,
              "#fb9f3a"
             ],
             [
              0.8888888888888888,
              "#fdca26"
             ],
             [
              1,
              "#f0f921"
             ]
            ],
            "type": "heatmapgl"
           }
          ],
          "histogram": [
           {
            "marker": {
             "pattern": {
              "fillmode": "overlay",
              "size": 10,
              "solidity": 0.2
             }
            },
            "type": "histogram"
           }
          ],
          "histogram2d": [
           {
            "colorbar": {
             "outlinewidth": 0,
             "ticks": ""
            },
            "colorscale": [
             [
              0,
              "#0d0887"
             ],
             [
              0.1111111111111111,
              "#46039f"
             ],
             [
              0.2222222222222222,
              "#7201a8"
             ],
             [
              0.3333333333333333,
              "#9c179e"
             ],
             [
              0.4444444444444444,
              "#bd3786"
             ],
             [
              0.5555555555555556,
              "#d8576b"
             ],
             [
              0.6666666666666666,
              "#ed7953"
             ],
             [
              0.7777777777777778,
              "#fb9f3a"
             ],
             [
              0.8888888888888888,
              "#fdca26"
             ],
             [
              1,
              "#f0f921"
             ]
            ],
            "type": "histogram2d"
           }
          ],
          "histogram2dcontour": [
           {
            "colorbar": {
             "outlinewidth": 0,
             "ticks": ""
            },
            "colorscale": [
             [
              0,
              "#0d0887"
             ],
             [
              0.1111111111111111,
              "#46039f"
             ],
             [
              0.2222222222222222,
              "#7201a8"
             ],
             [
              0.3333333333333333,
              "#9c179e"
             ],
             [
              0.4444444444444444,
              "#bd3786"
             ],
             [
              0.5555555555555556,
              "#d8576b"
             ],
             [
              0.6666666666666666,
              "#ed7953"
             ],
             [
              0.7777777777777778,
              "#fb9f3a"
             ],
             [
              0.8888888888888888,
              "#fdca26"
             ],
             [
              1,
              "#f0f921"
             ]
            ],
            "type": "histogram2dcontour"
           }
          ],
          "mesh3d": [
           {
            "colorbar": {
             "outlinewidth": 0,
             "ticks": ""
            },
            "type": "mesh3d"
           }
          ],
          "parcoords": [
           {
            "line": {
             "colorbar": {
              "outlinewidth": 0,
              "ticks": ""
             }
            },
            "type": "parcoords"
           }
          ],
          "pie": [
           {
            "automargin": true,
            "type": "pie"
           }
          ],
          "scatter": [
           {
            "fillpattern": {
             "fillmode": "overlay",
             "size": 10,
             "solidity": 0.2
            },
            "type": "scatter"
           }
          ],
          "scatter3d": [
           {
            "line": {
             "colorbar": {
              "outlinewidth": 0,
              "ticks": ""
             }
            },
            "marker": {
             "colorbar": {
              "outlinewidth": 0,
              "ticks": ""
             }
            },
            "type": "scatter3d"
           }
          ],
          "scattercarpet": [
           {
            "marker": {
             "colorbar": {
              "outlinewidth": 0,
              "ticks": ""
             }
            },
            "type": "scattercarpet"
           }
          ],
          "scattergeo": [
           {
            "marker": {
             "colorbar": {
              "outlinewidth": 0,
              "ticks": ""
             }
            },
            "type": "scattergeo"
           }
          ],
          "scattergl": [
           {
            "marker": {
             "colorbar": {
              "outlinewidth": 0,
              "ticks": ""
             }
            },
            "type": "scattergl"
           }
          ],
          "scattermapbox": [
           {
            "marker": {
             "colorbar": {
              "outlinewidth": 0,
              "ticks": ""
             }
            },
            "type": "scattermapbox"
           }
          ],
          "scatterpolar": [
           {
            "marker": {
             "colorbar": {
              "outlinewidth": 0,
              "ticks": ""
             }
            },
            "type": "scatterpolar"
           }
          ],
          "scatterpolargl": [
           {
            "marker": {
             "colorbar": {
              "outlinewidth": 0,
              "ticks": ""
             }
            },
            "type": "scatterpolargl"
           }
          ],
          "scatterternary": [
           {
            "marker": {
             "colorbar": {
              "outlinewidth": 0,
              "ticks": ""
             }
            },
            "type": "scatterternary"
           }
          ],
          "surface": [
           {
            "colorbar": {
             "outlinewidth": 0,
             "ticks": ""
            },
            "colorscale": [
             [
              0,
              "#0d0887"
             ],
             [
              0.1111111111111111,
              "#46039f"
             ],
             [
              0.2222222222222222,
              "#7201a8"
             ],
             [
              0.3333333333333333,
              "#9c179e"
             ],
             [
              0.4444444444444444,
              "#bd3786"
             ],
             [
              0.5555555555555556,
              "#d8576b"
             ],
             [
              0.6666666666666666,
              "#ed7953"
             ],
             [
              0.7777777777777778,
              "#fb9f3a"
             ],
             [
              0.8888888888888888,
              "#fdca26"
             ],
             [
              1,
              "#f0f921"
             ]
            ],
            "type": "surface"
           }
          ],
          "table": [
           {
            "cells": {
             "fill": {
              "color": "#EBF0F8"
             },
             "line": {
              "color": "white"
             }
            },
            "header": {
             "fill": {
              "color": "#C8D4E3"
             },
             "line": {
              "color": "white"
             }
            },
            "type": "table"
           }
          ]
         },
         "layout": {
          "annotationdefaults": {
           "arrowcolor": "#2a3f5f",
           "arrowhead": 0,
           "arrowwidth": 1
          },
          "autotypenumbers": "strict",
          "coloraxis": {
           "colorbar": {
            "outlinewidth": 0,
            "ticks": ""
           }
          },
          "colorscale": {
           "diverging": [
            [
             0,
             "#8e0152"
            ],
            [
             0.1,
             "#c51b7d"
            ],
            [
             0.2,
             "#de77ae"
            ],
            [
             0.3,
             "#f1b6da"
            ],
            [
             0.4,
             "#fde0ef"
            ],
            [
             0.5,
             "#f7f7f7"
            ],
            [
             0.6,
             "#e6f5d0"
            ],
            [
             0.7,
             "#b8e186"
            ],
            [
             0.8,
             "#7fbc41"
            ],
            [
             0.9,
             "#4d9221"
            ],
            [
             1,
             "#276419"
            ]
           ],
           "sequential": [
            [
             0,
             "#0d0887"
            ],
            [
             0.1111111111111111,
             "#46039f"
            ],
            [
             0.2222222222222222,
             "#7201a8"
            ],
            [
             0.3333333333333333,
             "#9c179e"
            ],
            [
             0.4444444444444444,
             "#bd3786"
            ],
            [
             0.5555555555555556,
             "#d8576b"
            ],
            [
             0.6666666666666666,
             "#ed7953"
            ],
            [
             0.7777777777777778,
             "#fb9f3a"
            ],
            [
             0.8888888888888888,
             "#fdca26"
            ],
            [
             1,
             "#f0f921"
            ]
           ],
           "sequentialminus": [
            [
             0,
             "#0d0887"
            ],
            [
             0.1111111111111111,
             "#46039f"
            ],
            [
             0.2222222222222222,
             "#7201a8"
            ],
            [
             0.3333333333333333,
             "#9c179e"
            ],
            [
             0.4444444444444444,
             "#bd3786"
            ],
            [
             0.5555555555555556,
             "#d8576b"
            ],
            [
             0.6666666666666666,
             "#ed7953"
            ],
            [
             0.7777777777777778,
             "#fb9f3a"
            ],
            [
             0.8888888888888888,
             "#fdca26"
            ],
            [
             1,
             "#f0f921"
            ]
           ]
          },
          "colorway": [
           "#636efa",
           "#EF553B",
           "#00cc96",
           "#ab63fa",
           "#FFA15A",
           "#19d3f3",
           "#FF6692",
           "#B6E880",
           "#FF97FF",
           "#FECB52"
          ],
          "font": {
           "color": "#2a3f5f"
          },
          "geo": {
           "bgcolor": "white",
           "lakecolor": "white",
           "landcolor": "#E5ECF6",
           "showlakes": true,
           "showland": true,
           "subunitcolor": "white"
          },
          "hoverlabel": {
           "align": "left"
          },
          "hovermode": "closest",
          "mapbox": {
           "style": "light"
          },
          "paper_bgcolor": "white",
          "plot_bgcolor": "#E5ECF6",
          "polar": {
           "angularaxis": {
            "gridcolor": "white",
            "linecolor": "white",
            "ticks": ""
           },
           "bgcolor": "#E5ECF6",
           "radialaxis": {
            "gridcolor": "white",
            "linecolor": "white",
            "ticks": ""
           }
          },
          "scene": {
           "xaxis": {
            "backgroundcolor": "#E5ECF6",
            "gridcolor": "white",
            "gridwidth": 2,
            "linecolor": "white",
            "showbackground": true,
            "ticks": "",
            "zerolinecolor": "white"
           },
           "yaxis": {
            "backgroundcolor": "#E5ECF6",
            "gridcolor": "white",
            "gridwidth": 2,
            "linecolor": "white",
            "showbackground": true,
            "ticks": "",
            "zerolinecolor": "white"
           },
           "zaxis": {
            "backgroundcolor": "#E5ECF6",
            "gridcolor": "white",
            "gridwidth": 2,
            "linecolor": "white",
            "showbackground": true,
            "ticks": "",
            "zerolinecolor": "white"
           }
          },
          "shapedefaults": {
           "line": {
            "color": "#2a3f5f"
           }
          },
          "ternary": {
           "aaxis": {
            "gridcolor": "white",
            "linecolor": "white",
            "ticks": ""
           },
           "baxis": {
            "gridcolor": "white",
            "linecolor": "white",
            "ticks": ""
           },
           "bgcolor": "#E5ECF6",
           "caxis": {
            "gridcolor": "white",
            "linecolor": "white",
            "ticks": ""
           }
          },
          "title": {
           "x": 0.05
          },
          "xaxis": {
           "automargin": true,
           "gridcolor": "white",
           "linecolor": "white",
           "ticks": "",
           "title": {
            "standoff": 15
           },
           "zerolinecolor": "white",
           "zerolinewidth": 2
          },
          "yaxis": {
           "automargin": true,
           "gridcolor": "white",
           "linecolor": "white",
           "ticks": "",
           "title": {
            "standoff": 15
           },
           "zerolinecolor": "white",
           "zerolinewidth": 2
          }
         }
        },
        "title": {
         "text": "Total Expenditure"
        },
        "xaxis": {
         "anchor": "y",
         "domain": [
          0,
          1
         ],
         "title": {
          "text": "Month"
         }
        },
        "yaxis": {
         "anchor": "x",
         "domain": [
          0,
          1
         ],
         "title": {
          "text": "Total Expenditure"
         }
        }
       }
      }
     },
     "metadata": {},
     "output_type": "display_data"
    }
   ],
   "source": [
    "\n",
    "fig = px.line(line_df, x='Month', y='Total Expenditure', title='Total Expenditure', markers=True) # , color='country'\n",
    "fig.show()"
   ]
  }
 ],
 "metadata": {
  "kernelspec": {
   "display_name": "Python 3",
   "language": "python",
   "name": "python3"
  },
  "language_info": {
   "codemirror_mode": {
    "name": "ipython",
    "version": 3
   },
   "file_extension": ".py",
   "mimetype": "text/x-python",
   "name": "python",
   "nbconvert_exporter": "python",
   "pygments_lexer": "ipython3",
   "version": "3.10.11"
  }
 },
 "nbformat": 4,
 "nbformat_minor": 2
}
